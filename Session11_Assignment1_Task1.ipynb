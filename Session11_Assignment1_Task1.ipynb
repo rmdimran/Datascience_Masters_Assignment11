{
 "cells": [
  {
   "cell_type": "markdown",
   "metadata": {},
   "source": [
    "# TASK 1"
   ]
  },
  {
   "cell_type": "markdown",
   "metadata": {},
   "source": [
    " Problem Statement\n",
    " -----------------\n",
    "\n",
    "1. What are the three stages to build the hypotheses or model in machine learning?\n",
    "2. What is the standard approach to supervised learning?\n",
    "3. What is Training set and Test set?\n",
    "4. What is the general principle of an ensemble method and what is bagging and\n",
    "   boosting in ensemble method?\n",
    "5. How can you avoid overfitting ?"
   ]
  },
  {
   "cell_type": "code",
   "execution_count": null,
   "metadata": {},
   "outputs": [],
   "source": [
    "#1 What are the three stages to build the hypotheses or model in machine learning?\n",
    "\n",
    "a. Model Building\n",
    "b. Model Testing \n",
    "c. Applying the model"
   ]
  },
  {
   "cell_type": "code",
   "execution_count": null,
   "metadata": {},
   "outputs": [],
   "source": [
    "#2 What is the standard approach to supervised learning?\n",
    "\n",
    "The standard approach to supervised learning is to split the set of example into the training set and the test.\n"
   ]
  },
  {
   "cell_type": "code",
   "execution_count": null,
   "metadata": {},
   "outputs": [],
   "source": [
    "#3 What is Training set and Test set?\n",
    "\n",
    "In Machine Learning, a training set is a dataset used to train a model. In training the model, specific \n",
    "features are picked out from the training set. These features are then incorporated into the model. Thereby, if \n",
    "the training set is labeled correctly, the model should be able to learn something from these features.\n",
    "\n",
    "The test set is a dataset used to measure how well the model performs at making predictions on that test set. \n",
    "If the prediction scores for the test set are unreasonable, we’ll have to make some adjustments to our model \n",
    "and try again.\n"
   ]
  },
  {
   "cell_type": "code",
   "execution_count": null,
   "metadata": {},
   "outputs": [],
   "source": [
    "#4 What is the general principle of an ensemble method and what is bagging and boosting in ensemble method?\n",
    "\n",
    "The general principle of an ensemble method is to combine the predictions of several models built with a \n",
    "given learning algorithm in order to improve robustness over a single model.  Bagging is a method in \n",
    "ensemble for improving unstable estimation or classification schemes. \n",
    "\n",
    "While boosting method are used sequentially to reduce the bias of the combined model.  Boosting and Bagging\n",
    "both can reduce errors by reducing the variance term."
   ]
  },
  {
   "cell_type": "code",
   "execution_count": null,
   "metadata": {},
   "outputs": [],
   "source": [
    "#5 How can you avoid overfitting ?\n",
    "\n",
    "By using a lot of data overfitting can be avoided, overfitting happens relatively as you have a small dataset, \n",
    "and you try to learn from it. But if you have a small database and you are forced to come with a model based on \n",
    "that. In such situation, you can use a technique known as cross validation. In this method the dataset splits \n",
    "into two section, testing and training datasets, the testing dataset will only test the model while, in \n",
    "training dataset, the datapoints will come up with the model.\n",
    "\n",
    "In this technique,  a model is usually given a dataset of a known data on which training (training data set) is \n",
    "run and a dataset of unknown data against which the model is tested. The idea of cross validation is to define \n",
    "a dataset to “test” the model in the training phase."
   ]
  }
 ],
 "metadata": {
  "kernelspec": {
   "display_name": "Python 3",
   "language": "python",
   "name": "python3"
  },
  "language_info": {
   "codemirror_mode": {
    "name": "ipython",
    "version": 3
   },
   "file_extension": ".py",
   "mimetype": "text/x-python",
   "name": "python",
   "nbconvert_exporter": "python",
   "pygments_lexer": "ipython3",
   "version": "3.6.5"
  },
  "varInspector": {
   "cols": {
    "lenName": 16,
    "lenType": 16,
    "lenVar": 40
   },
   "kernels_config": {
    "python": {
     "delete_cmd_postfix": "",
     "delete_cmd_prefix": "del ",
     "library": "var_list.py",
     "varRefreshCmd": "print(var_dic_list())"
    },
    "r": {
     "delete_cmd_postfix": ") ",
     "delete_cmd_prefix": "rm(",
     "library": "var_list.r",
     "varRefreshCmd": "cat(var_dic_list()) "
    }
   },
   "types_to_exclude": [
    "module",
    "function",
    "builtin_function_or_method",
    "instance",
    "_Feature"
   ],
   "window_display": false
  }
 },
 "nbformat": 4,
 "nbformat_minor": 2
}
